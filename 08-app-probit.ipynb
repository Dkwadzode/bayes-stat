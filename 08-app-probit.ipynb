{
 "cells": [
  {
   "cell_type": "code",
   "execution_count": 1,
   "id": "0f0fd80f",
   "metadata": {},
   "outputs": [
    {
     "name": "stderr",
     "output_type": "stream",
     "text": [
      "100% (10999 of 10999) |##################| Elapsed Time: 0:00:32 Time:  0:00:32\n"
     ]
    },
    {
     "ename": "ValueError",
     "evalue": "not enough values to unpack (expected 4, got 2)",
     "output_type": "error",
     "traceback": [
      "\u001b[0;31m---------------------------------------------------------------------------\u001b[0m",
      "\u001b[0;31mValueError\u001b[0m                                Traceback (most recent call last)",
      "Cell \u001b[0;32mIn[1], line 62\u001b[0m\n\u001b[1;32m     59\u001b[0m sample[\u001b[39m'\u001b[39m\u001b[39mz\u001b[39m\u001b[39m'\u001b[39m] \u001b[39m=\u001b[39m sample[\u001b[39m'\u001b[39m\u001b[39mz\u001b[39m\u001b[39m'\u001b[39m][\u001b[39m1000\u001b[39m:\u001b[39m11000\u001b[39m, :]\n\u001b[1;32m     61\u001b[0m \u001b[39m# Plot\u001b[39;00m\n\u001b[0;32m---> 62\u001b[0m fig, (ax1, ax2, ax3, ax4) \u001b[39m=\u001b[39m plt\u001b[39m.\u001b[39msubplots(\u001b[39m2\u001b[39m, \u001b[39m2\u001b[39m, figsize\u001b[39m=\u001b[39m(\u001b[39m5\u001b[39m, \u001b[39m5\u001b[39m))\n\u001b[1;32m     63\u001b[0m beta1 \u001b[39m=\u001b[39m np\u001b[39m.\u001b[39mlinspace(\u001b[39m1\u001b[39m, \u001b[39m7\u001b[39m, \u001b[39m100\u001b[39m)\n\u001b[1;32m     64\u001b[0m ax1\u001b[39m.\u001b[39mplot(beta1, stats\u001b[39m.\u001b[39mnorm\u001b[39m.\u001b[39mpdf(beta1, loc\u001b[39m=\u001b[39m\u001b[39m4\u001b[39m, scale\u001b[39m=\u001b[39m\u001b[39m1\u001b[39m))\n",
      "\u001b[0;31mValueError\u001b[0m: not enough values to unpack (expected 4, got 2)"
     ]
    },
    {
     "data": {
      "image/png": "[encoded data removed]",
      "text/plain": [
       "<Figure size 500x500 with 4 Axes>"
      ]
     },
     "metadata": {},
     "output_type": "display_data"
    }
   ],
   "source": [
    "import numpy as np\n",
    "import scipy.stats as stats\n",
    "import matplotlib.pyplot as plt\n",
    "import csv\n",
    "from progressbar import progressbar\n",
    "\n",
    "# Tobit censored linear regression\n",
    "def tobit(y, x, n, beta0, B0, alpha0, delta0, c):\n",
    "    # Initialization\n",
    "    ind = np.where(y < c)[0]\n",
    "    sample = {'beta': np.zeros((n, len(beta0))), 'sig2': np.zeros((n, 1)), 'z': np.zeros((n, len(ind)))}\n",
    "    sample['beta'][0, :] = beta0\n",
    "    sample['sig2'][0] = (delta0 / 2) / (alpha0 / 2 - 1)\n",
    "    sample['z'][0, :] = c - 0.1\n",
    "    alpha1 = alpha0 + len(y)\n",
    "    \n",
    "    # Sampling\n",
    "    for i in progressbar(range(1, n)):\n",
    "        y[ind] = sample['z'][i - 1, :].reshape(-1, 1)\n",
    "        B1 = np.linalg.inv(x.T @ x / sample['sig2'][i - 1] + np.linalg.inv(B0))\n",
    "        beta1 = B1 @ (x.T @ y / sample['sig2'][i - 1] + np.linalg.inv(B0) @ beta0.reshape(-1,1))\n",
    "        sample['beta'][i, :] = stats.multivariate_normal.rvs(size=1, mean=beta1.ravel(), cov=B1)\n",
    "        \n",
    "        m = x @ sample['beta'][i, :].reshape(-1, 1)\n",
    "        delta1 = delta0 + (y - m).T @ (y - m)\n",
    "        sample['sig2'][i] = stats.invgamma.rvs(alpha1 / 2, size=1, scale=delta1 / 2)\n",
    "\n",
    "        for j in range(len(ind)):\n",
    "            b = (c - m[ind[j]]) / np.sqrt(sample['sig2'][i])\n",
    "            sample['z'][i, j] = stats.truncnorm.rvs(-1e3, b, loc=m[ind[j]], scale=np.sqrt(sample['sig2'][i]), size=1)\n",
    "        \n",
    "    return sample\n",
    "\n",
    "# Import Taylor rule data\n",
    "with open(\"taylor.csv\", \"r\") as file:\n",
    "    reader = csv.reader(file)\n",
    "    header = next(reader)\n",
    "    data = [row for row in reader]\n",
    "\n",
    "data = np.array(data, dtype=float)\n",
    "begin = 110\n",
    "end = 274\n",
    "date = data[begin:end, header.index('Date')]\n",
    "y = data[begin:end, header.index('R')].reshape(-1, 1)\n",
    "x = np.zeros((len(y), 3))\n",
    "x[:, 0] = 1\n",
    "x[:, 1] = data[begin:end, header.index('P')]-2\n",
    "x[:, 2] = data[begin:end, header.index('Y')]\n",
    "\n",
    "# Prior and posterior\n",
    "beta0 = np.array([4, 1.5, 0.5])\n",
    "B0 = np.array([[1, 0, 0], [0, 1, 0], [0, 0, 1]])\n",
    "alpha0 = 5\n",
    "delta0 = 5\n",
    "c = 0.25\n",
    "sample = tobit(y.copy(), x, 11000, beta0, B0, alpha0, delta0, c)\n",
    "sample['beta'] = sample['beta'][1000:11000, :]\n",
    "sample['sig2'] = sample['sig2'][1000:11000]\n",
    "sample['z'] = sample['z'][1000:11000, :]\n",
    "\n",
    "# Plot\n",
    "fig, ((ax1, ax2), (ax3, ax4)) = plt.subplots(2, 2, figsize=(5, 5))\n",
    "beta1 = np.linspace(1, 7, 100)\n",
    "ax1.plot(beta1, stats.norm.pdf(beta1, loc=4, scale=1))\n",
    "ax1.hist(sample['beta'][:, 0], bins=50, density=True, color=\"red\", alpha=0.5)\n",
    "ax1.set_xlabel(r'$i^*$', fontsize=12)\n",
    "beta2 = np.linspace(-1.5, 4.5, 100)\n",
    "ax2.plot(beta2, stats.norm.pdf(beta2, loc=1.5, scale=1))\n",
    "ax2.hist(sample['beta'][:, 1], bins=50, density=True, color=\"red\", alpha=0.5)\n",
    "ax2.set_xlabel(r'$a$', fontsize=12)\n",
    "beta3 = np.linspace(-2.5, 3.5, 100)\n",
    "ax3.plot(beta3, stats.norm.pdf(beta3, loc=0.5, scale=1))\n",
    "ax3.hist(sample['beta'][:, 2], bins=50, density=True, color=\"red\", alpha=0.5)\n",
    "ax3.set_xlabel(r'$b$', fontsize=12)\n",
    "ind = np.where(y < c)[0]\n",
    "yz = y.copy()\n",
    "yz[ind] = np.mean(sample['z'], axis=0).reshape(-1, 1)\n",
    "ax4.plot(date, yz, label='Shadow rate')\n",
    "ax4.plot(date, y, label='Fed funds rate')\n",
    "ax4.legend()\n",
    "plt.show()"
   ]
  }
 ],
 "metadata": {
  "kernelspec": {
   "display_name": "Python 3",
   "language": "python",
   "name": "python3"
  },
  "language_info": {
   "codemirror_mode": {
    "name": "ipython",
    "version": 3
   },
   "file_extension": ".py",
   "mimetype": "text/x-python",
   "name": "python",
   "nbconvert_exporter": "python",
   "pygments_lexer": "ipython3",
   "version": "3.11.2"
  },
  "vscode": {
   "interpreter": {
    "hash": "aee8b7b246df8f9039afb4144a1f6fd8d2ca17a180786b69acc140d282b71a49"
   }
  }
 },
 "nbformat": 4,
 "nbformat_minor": 5
}
